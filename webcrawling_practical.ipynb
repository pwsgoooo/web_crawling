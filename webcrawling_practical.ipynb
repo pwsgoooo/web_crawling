{
  "nbformat": 4,
  "nbformat_minor": 0,
  "metadata": {
    "colab": {
      "provenance": []
    },
    "kernelspec": {
      "name": "python3",
      "display_name": "Python 3"
    },
    "language_info": {
      "name": "python"
    }
  },
  "cells": [
    {
      "cell_type": "code",
      "source": [
        "import requests\n",
        "from bs4 import BeautifulSoup\n",
        "\n",
        "base_url01 = 'https://search.naver.com/search.naver?sm=tab_hty.top&where=video&ssc=tab.video.all&query='\n",
        "\n",
        "base_url02 = '&oquery=&tqi=ipgQbwqVOZossEL93CwssssstM0-236165'\n",
        "\n",
        "keyword = input(\"검색할 키워드를 입력해 : \")\n",
        "\n",
        "search_url = base_url01 + keyword + base_url02\n",
        "\n",
        "r = requests.get(search_url)\n",
        "\n",
        "soup = BeautifulSoup(r.text, \"html.parser\")\n",
        "\n",
        "items = soup.select(\"a.info_title\")\n",
        "\n",
        "# print(items[0].text)\n",
        "\n",
        "for id,item in enumerate(items, 1):\n",
        "  print(f\"{id} : {item.text}\")"
      ],
      "metadata": {
        "colab": {
          "base_uri": "https://localhost:8080/"
        },
        "id": "794gASfchVbY",
        "outputId": "45dfefd6-c519-4644-80a9-290ded79790d"
      },
      "execution_count": null,
      "outputs": [
        {
          "output_type": "stream",
          "name": "stdout",
          "text": [
            "검색할 키워드를 입력해 : 박구월\n",
            "1 : 박구월의 달콤한 점심시간\n",
            "2 : 박구월의 2022 데이터 포트폴리오 ◟(ᵔ ̮ ᵔ)͜💐\n",
            "3 : 박구월 채널 목표 #datascientist #data\n",
            "4 : 박구월의 감성일기02\n",
            "5 : 날클립 사용법\n",
            "6 : 박구월 채널 _ #데이터포트폴리오 #일정매매\n",
            "7 : 카트라이더 박구월\n",
            "8 : 박구월의 어린시절\n",
            "9 : 박구월의 감성일기01\n",
            "10 : 박구월의 먹부림 : #꼬북알젤리\n",
            "11 : 박구월의 먹부림 : #하리보젤리\n",
            "12 : 박구월의 취미프로젝트\n",
            "13 : 박구월의 먹부림 : #텐동 멍하게 먹기\n",
            "14 : 박구월의 먹부림 : #치즈스틱\n",
            "15 : 박구월의 먹부림 : #햄치즈토스트 #이삭토스트\n",
            "16 : 박구월의 먹부림 : #생애최초 #아웃백\n",
            "17 : 박구월의 먹부림 : #들기름막국수\n",
            "18 : 박구월의 먹부림 : #아웃백 #투움바파스타\n",
            "19 : 저 박구월예요 ㅎ\n",
            "20 : 구글코랩으로 데이터전처리\n",
            "21 : 그녀의 수습기(간)\n",
            "22 : git remote add 127.0.0.1/.. #아마도그건 #유익한\n",
            "23 : 2023 마이데이터 국민참여단 활동보고서\n",
            "24 : 그녀의 취준기\n",
            "25 : 그녀의 면접기\n",
            "26 : 병점 동탄 화성 강아지 말티스 슬개골탈구 수술 잘하는 전문 쥬만지 동물병원 박구월 후기\n",
            "27 : 빅데이터분석기사 필기 준비\n",
            "28 : ㄴr는 ㄱr 끔 고기를 굽는ㄷr\n",
            "29 : 히피펌 후기 #여자머리추천\n",
            "30 : 로브스터 입니다\n",
            "31 : 스파이더맨의 팬은 이렇게 놀아요\n",
            "32 : return to JEJU\n",
            "33 : 빅데이터분석기사 실기 준비\n",
            "34 : 혼자여행 기 #제주도여행브이로그\n",
            "35 : 전주맛집 #베테랑칼국수\n",
            "36 : 어.. bowlingLogging\n",
            "37 : 카페브이로그\n",
            "38 : 제주도 여행 팁 #제주도여행브이로그\n",
            "39 : 아, 나, 진짜\n",
            "40 : #웹기획입문 02 : #웹기획자 #입문 #취업\n",
            "41 : 소시지 for cat on the road\n",
            "42 : 찾았다, 도착했다\n",
            "43 : 공주예쁜카페 리리스블루\n",
            "44 : 그냥 그렇다고\n",
            "45 : 후회없는\n",
            "46 : 인연 종결법\n",
            "47 : 있잖아, 나 드라이브 중이야\n",
            "48 : 자동차 제어 문제 발생 #제주도여행브이로그\n"
          ]
        }
      ]
    }
  ]
}